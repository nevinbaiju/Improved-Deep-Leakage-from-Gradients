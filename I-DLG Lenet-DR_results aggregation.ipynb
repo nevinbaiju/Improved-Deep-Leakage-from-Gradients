{
 "cells": [
  {
   "cell_type": "code",
   "execution_count": 1,
   "id": "6862f275",
   "metadata": {},
   "outputs": [],
   "source": [
    "import time\n",
    "import os\n",
    "import numpy as np\n",
    "import matplotlib.pyplot as plt\n",
    "import pandas as pd\n",
    "import time\n",
    "\n",
    "import torch\n",
    "import torch.nn as nn\n",
    "from torch.utils.data import Dataset\n",
    "from torchvision import datasets, transforms\n",
    "from torchvision.io import read_image\n",
    "from torchmetrics.functional import pairwise_cosine_similarity\n",
    "\n",
    "import pickle\n",
    "import PIL.Image as Image\n",
    "import cv2\n",
    "from skimage.metrics import structural_similarity"
   ]
  },
  {
   "cell_type": "markdown",
   "id": "8b2566e0",
   "metadata": {},
   "source": [
    "## Model declarations "
   ]
  },
  {
   "cell_type": "code",
   "execution_count": 2,
   "id": "fb491b79",
   "metadata": {},
   "outputs": [],
   "source": [
    "class LeNet(nn.Module):\n",
    "    def __init__(self, channel=3, hideen=588, num_classes=10):\n",
    "        super(LeNet, self).__init__()\n",
    "        act = nn.Sigmoid\n",
    "        self.body = nn.Sequential(\n",
    "            nn.Conv2d(channel, 12, kernel_size=5, padding=5 // 2, stride=2),\n",
    "            act(),\n",
    "            nn.Conv2d(12, 12, kernel_size=5, padding=5 // 2, stride=2),\n",
    "            act(),\n",
    "            nn.Conv2d(12, 12, kernel_size=5, padding=5 // 2, stride=1),\n",
    "            act(),\n",
    "        )\n",
    "        self.fc = nn.Sequential(\n",
    "            nn.Linear(hideen, num_classes)\n",
    "        )\n",
    "\n",
    "    def forward(self, x):\n",
    "        out = self.body(x)\n",
    "        out = out.view(out.size(0), -1)\n",
    "        out = self.fc(out)\n",
    "        return out"
   ]
  },
  {
   "cell_type": "markdown",
   "id": "50ba3774",
   "metadata": {},
   "source": [
    "## Misc functions"
   ]
  },
  {
   "cell_type": "code",
   "execution_count": 3,
   "id": "bbc65734",
   "metadata": {},
   "outputs": [],
   "source": [
    "def weights_init(m):\n",
    "    try:\n",
    "        if hasattr(m, \"weight\"):\n",
    "            m.weight.data.uniform_(-0.5, 0.5)\n",
    "    except Exception:\n",
    "        print('warning: failed in weights_init for %s.weight' % m._get_name())\n",
    "    try:\n",
    "        if hasattr(m, \"bias\"):\n",
    "            m.bias.data.uniform_(-0.5, 0.5)\n",
    "    except Exception:\n",
    "        print('warning: failed in weights_init for %s.bias' % m._get_name())"
   ]
  },
  {
   "cell_type": "markdown",
   "id": "d6b8862b",
   "metadata": {},
   "source": [
    "## Data functions"
   ]
  },
  {
   "cell_type": "code",
   "execution_count": 4,
   "id": "0c6c984e",
   "metadata": {},
   "outputs": [],
   "source": [
    "class Dataset_from_Image(Dataset):\n",
    "    def __init__(self, imgs, labs, transform=None):\n",
    "        self.imgs = imgs # img paths\n",
    "        self.labs = labs # labs is ndarray\n",
    "        self.transform = transform\n",
    "        del imgs, labs\n",
    "\n",
    "    def __len__(self):\n",
    "        return self.labs.shape[0]\n",
    "\n",
    "    def __getitem__(self, idx):\n",
    "        lab = self.labs[idx]\n",
    "        img = Image.open(self.imgs[idx])\n",
    "        if img.mode != 'RGB':\n",
    "            img = img.convert('RGB')\n",
    "        img = self.transform(img)\n",
    "        return img, lab"
   ]
  },
  {
   "cell_type": "code",
   "execution_count": 5,
   "id": "918a92e2",
   "metadata": {},
   "outputs": [],
   "source": [
    "class DRData(Dataset):\n",
    "    def __init__(self, data_path, transform=None):\n",
    "        self.data_path = data_path\n",
    "        self.labels = pd.read_csv(os.path.join(data_path, 'data_labels.csv'))\n",
    "        self.transform = transform\n",
    "\n",
    "    def __len__(self):\n",
    "        return self.labels.shape[0]\n",
    "    \n",
    "    def get_filename(self, idx):\n",
    "        return self.labels.loc[idx, 'image']\n",
    "\n",
    "    def __getitem__(self, idx):\n",
    "        lab = self.labels.loc[idx, 'level']\n",
    "        img = Image.open(os.path.join(self.data_path, 'images', self.labels.loc[idx, 'image']+'.jpeg'))\n",
    "        if img.mode != 'RGB':\n",
    "            img = img.convert('RGB')\n",
    "        if self.transform:\n",
    "            img = self.transform(img)\n",
    "        return img, lab"
   ]
  },
  {
   "cell_type": "code",
   "execution_count": 6,
   "id": "03fb1403",
   "metadata": {},
   "outputs": [],
   "source": [
    "def load_data():\n",
    "    data_params = {}\n",
    "    \n",
    "    # 32 - 768, 40 - 1200, 50 - 2028\n",
    "    data_params['shape_img'] = (40, 40)\n",
    "    data_params['num_classes'] = 5\n",
    "    data_params['channel'] = 3\n",
    "    data_params['hidden'] = 1200\n",
    "    data_params['lfw_path'] = os.path.join(root_path, '../data/lfw')\n",
    "    data_params['dst'] = DRData('../data/dr/', transform=transforms.Compose([transforms.Resize(size=data_params['shape_img'])]))\n",
    "        \n",
    "    return data_params\n",
    "    "
   ]
  },
  {
   "cell_type": "code",
   "execution_count": 7,
   "id": "27460a63",
   "metadata": {},
   "outputs": [],
   "source": [
    "def get_metrics(original_image, generated_image, print_metrics=False):\n",
    "#     original_image = original_image.copy()\n",
    "#     generated_image = generated_image.copy()\n",
    "    mse = torch.mean((dummy_data-gt_data)**2).item()\n",
    "    original_image = original_image.cpu()[0].permute(1, 2, 0).numpy()\n",
    "    generated_image = generated_image.detach().cpu()[0].permute(1, 2, 0).numpy()\n",
    "    \n",
    "    psnr = cv2.PSNR(original_image, generated_image)\n",
    "    (score, diff) = structural_similarity(original_image, generated_image, full=True, win_size=3)\n",
    "    if print_metrics:\n",
    "        print(f\"MSE: {mse}, PSNR: {psnr}, SSIM: {score}\")\n",
    "    return mse, psnr, score"
   ]
  },
  {
   "cell_type": "code",
   "execution_count": 8,
   "id": "b11b8872",
   "metadata": {},
   "outputs": [],
   "source": [
    "def plot_metrics(mse, psnr, ssim):\n",
    "    fig, (ax1, ax2, ax3) = plt.subplots(1, 3, figsize=(12, 3))\n",
    "\n",
    "    ax1.title.set_text('MSE')\n",
    "    ax1.set_xlabel('Iterations')\n",
    "    ax1.set_ylabel('MSE')\n",
    "    ax1.plot(mse)\n",
    "\n",
    "    ax2.title.set_text('PSNR')\n",
    "    ax2.set_xlabel('Iterations')\n",
    "    ax2.set_ylabel('PSNR')\n",
    "    ax2.plot(psnr)\n",
    "\n",
    "    ax3.title.set_text('SSIM')\n",
    "    ax3.set_xlabel('Iterations')\n",
    "    ax3.set_ylabel('SSIM')\n",
    "    ax3.plot(ssim)"
   ]
  },
  {
   "cell_type": "markdown",
   "id": "3fb30d53",
   "metadata": {},
   "source": [
    "## Args"
   ]
  },
  {
   "cell_type": "markdown",
   "id": "200b34fe",
   "metadata": {},
   "source": [
    "##### Paths"
   ]
  },
  {
   "cell_type": "code",
   "execution_count": 9,
   "id": "d45ce0e9",
   "metadata": {},
   "outputs": [],
   "source": [
    "dataset = 'lfw'\n",
    "root_path = '.'"
   ]
  },
  {
   "cell_type": "markdown",
   "id": "79904d15",
   "metadata": {},
   "source": [
    "##### Model params"
   ]
  },
  {
   "cell_type": "code",
   "execution_count": 10,
   "id": "0e7f1fc7",
   "metadata": {},
   "outputs": [],
   "source": [
    "lr = 1.0\n",
    "num_dummy = 1\n",
    "Iteration = 3000\n",
    "num_exp = 500"
   ]
  },
  {
   "cell_type": "code",
   "execution_count": 11,
   "id": "efc10dc1",
   "metadata": {},
   "outputs": [],
   "source": [
    "device = 'cpu'"
   ]
  },
  {
   "cell_type": "code",
   "execution_count": 12,
   "id": "4cbbaf19",
   "metadata": {},
   "outputs": [],
   "source": [
    "tt = transforms.Compose([transforms.ToTensor()])\n",
    "tp = transforms.Compose([transforms.ToPILImage()])"
   ]
  },
  {
   "cell_type": "code",
   "execution_count": 13,
   "id": "a6fa043a",
   "metadata": {},
   "outputs": [],
   "source": [
    "root_path = '.'\n",
    "data_path = os.path.join(root_path, '../data')\n",
    "save_path = os.path.join(root_path, 'results/iDLG_%s'%dataset)"
   ]
  },
  {
   "cell_type": "code",
   "execution_count": 14,
   "id": "4db421f6",
   "metadata": {},
   "outputs": [],
   "source": [
    "if not os.path.exists('results'):\n",
    "    os.mkdir('results')\n",
    "if not os.path.exists(save_path):\n",
    "    os.mkdir(save_path)"
   ]
  },
  {
   "cell_type": "markdown",
   "id": "715f76e5",
   "metadata": {},
   "source": [
    "#### Choosing the data"
   ]
  },
  {
   "cell_type": "code",
   "execution_count": 15,
   "id": "4109281c",
   "metadata": {},
   "outputs": [],
   "source": [
    "data_params = load_data()\n",
    "dst = data_params['dst']\n",
    "num_classes = data_params['num_classes']\n",
    "hidden = data_params['hidden']\n",
    "channels = data_params['channel']"
   ]
  },
  {
   "cell_type": "markdown",
   "id": "eab684a2",
   "metadata": {},
   "source": [
    "Lenet"
   ]
  },
  {
   "cell_type": "code",
   "execution_count": 17,
   "id": "848c4afc",
   "metadata": {},
   "outputs": [],
   "source": [
    "net = torch.load('models/Lenet_hl_1200_NB_02-20-2023.pth')"
   ]
  },
  {
   "cell_type": "code",
   "execution_count": 18,
   "id": "ed8dff76",
   "metadata": {},
   "outputs": [
    {
     "data": {
      "text/plain": [
       "LeNet(\n",
       "  (body): Sequential(\n",
       "    (0): Conv2d(3, 12, kernel_size=(5, 5), stride=(2, 2), padding=(2, 2))\n",
       "    (1): Sigmoid()\n",
       "    (2): Conv2d(12, 12, kernel_size=(5, 5), stride=(2, 2), padding=(2, 2))\n",
       "    (3): Sigmoid()\n",
       "    (4): Conv2d(12, 12, kernel_size=(5, 5), stride=(1, 1), padding=(2, 2))\n",
       "    (5): Sigmoid()\n",
       "  )\n",
       "  (fc): Sequential(\n",
       "    (0): Linear(in_features=1200, out_features=15, bias=True)\n",
       "  )\n",
       ")"
      ]
     },
     "execution_count": 18,
     "metadata": {},
     "output_type": "execute_result"
    }
   ],
   "source": [
    "net"
   ]
  },
  {
   "cell_type": "markdown",
   "id": "597ae439",
   "metadata": {},
   "source": [
    "### Training"
   ]
  },
  {
   "cell_type": "code",
   "execution_count": null,
   "id": "0984da38",
   "metadata": {
    "scrolled": true
   },
   "outputs": [
    {
     "name": "stdout",
     "output_type": "stream",
     "text": [
      "running 0|500 experiment\n",
      "lr = 1.0\n",
      "327/3000\r"
     ]
    }
   ],
   "source": [
    "result_dict = {'filename': [], 'label': [], 'mse': [], 'psnr': [], 'ssim': []}\n",
    "\n",
    "for idx_net in range(num_exp):\n",
    "    net.apply(weights_init)\n",
    "\n",
    "    print('running %d|%d experiment'%(idx_net, num_exp))\n",
    "    net = net.to(device)\n",
    "    idx_shuffle = np.random.permutation(len(dst))\n",
    "\n",
    "#     print('%s, Try to generate %d images' % ('IDLG', num_dummy))\n",
    "\n",
    "    criterion = nn.CrossEntropyLoss().to(device)\n",
    "    imidx_list = []\n",
    "\n",
    "    for imidx in range(num_dummy):\n",
    "        idx = idx_net\n",
    "        imidx_list.append(idx)\n",
    "        tmp_datum = tt(dst[idx][0]).float().to(device)\n",
    "        tmp_datum = tmp_datum.view(1, *tmp_datum.size())\n",
    "        tmp_label = torch.Tensor([dst[idx][1]]).long().to(device)\n",
    "        tmp_label = tmp_label.view(1, )\n",
    "        if imidx == 0:\n",
    "            gt_data = tmp_datum\n",
    "            gt_label = tmp_label\n",
    "        else:\n",
    "            gt_data = torch.cat((gt_data, tmp_datum), dim=0)\n",
    "            gt_label = torch.cat((gt_label, tmp_label), dim=0)\n",
    "\n",
    "\n",
    "    # compute original gradient\n",
    "    out = net(gt_data)\n",
    "    y = criterion(out, gt_label)\n",
    "    dy_dx = torch.autograd.grad(y, net.parameters())\n",
    "    original_dy_dx = list((_.detach().clone() for _ in dy_dx))\n",
    "\n",
    "    # generate dummy data and label\n",
    "    dummy_data = torch.randn(gt_data.size()).to(device).requires_grad_(True)\n",
    "    dummy_label = torch.randn((gt_data.shape[0], num_classes)).to(device).requires_grad_(True)\n",
    "\n",
    "    optimizer = torch.optim.LBFGS([dummy_data, ], lr=lr)\n",
    "    # predict the ground-truth label\n",
    "    label_pred = torch.argmin(torch.sum(original_dy_dx[-2], dim=-1), dim=-1).detach().reshape((1,)).requires_grad_(False)\n",
    "\n",
    "    history = []\n",
    "    history_iters = []\n",
    "    losses = []\n",
    "    mses = []\n",
    "    train_iters = []\n",
    "    psnrs = []\n",
    "    ssims = []\n",
    "\n",
    "    print('lr =', lr)\n",
    "    \n",
    "    start_time = time.time()\n",
    "    for iters in range(Iteration):\n",
    "        print(f'{iters}/{Iteration}', sep='\\r', end='\\r')\n",
    "\n",
    "        def closure():\n",
    "            optimizer.zero_grad()\n",
    "            pred = net(dummy_data)\n",
    "            dummy_loss = criterion(pred, label_pred)\n",
    "\n",
    "            dummy_dy_dx = torch.autograd.grad(dummy_loss, net.parameters(), create_graph=True)\n",
    "\n",
    "            grad_diff = 0\n",
    "            mse = lambda gx, gy: ((gx - gy) ** 2).sum()\n",
    "            cosine_sim = lambda gx, gy: pairwise_cosine_similarity(gx.view(1, -1), gy.view(1, -1))\n",
    "            loss = mse\n",
    "            for gx, gy in zip(dummy_dy_dx, original_dy_dx):\n",
    "                grad_diff += loss(gx, gy)\n",
    "            grad_diff.backward()\n",
    "            return grad_diff\n",
    "\n",
    "        optimizer.step(closure)\n",
    "        current_loss = closure().item()\n",
    "        train_iters.append(iters)\n",
    "        losses.append(current_loss)\n",
    "        \n",
    "        mse, psnr, ssim = get_metrics(gt_data, dummy_data)\n",
    "        mses.append(torch.mean((dummy_data-gt_data)**2).item())\n",
    "#         mses.append(mse)\n",
    "        psnrs.append(psnr)\n",
    "        ssims.append(ssim)\n",
    "\n",
    "    result_dict['filename'] = result_dict['filename'] + [dst.get_filename(idx_net)]\n",
    "    result_dict['label'] = result_dict['label'] + [gt_label.numpy()[0]]\n",
    "    result_dict['mse'] = result_dict['mse'] + [np.mean(mses[-10:])]\n",
    "    result_dict['psnr'] = result_dict['psnr'] + [np.mean(psnrs[-10:])]\n",
    "    result_dict['ssim'] = result_dict['ssim'] + [np.mean(ssims[-10:])]\n",
    "#     break"
   ]
  },
  {
   "cell_type": "code",
   "execution_count": 20,
   "id": "bf35402d",
   "metadata": {},
   "outputs": [],
   "source": [
    "results_df = pd.DataFrame(result_dict)"
   ]
  },
  {
   "cell_type": "code",
   "execution_count": 21,
   "id": "540faef2",
   "metadata": {},
   "outputs": [
    {
     "data": {
      "text/html": [
       "<div>\n",
       "<style scoped>\n",
       "    .dataframe tbody tr th:only-of-type {\n",
       "        vertical-align: middle;\n",
       "    }\n",
       "\n",
       "    .dataframe tbody tr th {\n",
       "        vertical-align: top;\n",
       "    }\n",
       "\n",
       "    .dataframe thead th {\n",
       "        text-align: right;\n",
       "    }\n",
       "</style>\n",
       "<table border=\"1\" class=\"dataframe\">\n",
       "  <thead>\n",
       "    <tr style=\"text-align: right;\">\n",
       "      <th></th>\n",
       "      <th>filename</th>\n",
       "      <th>label</th>\n",
       "      <th>mse</th>\n",
       "      <th>psnr</th>\n",
       "      <th>ssim</th>\n",
       "    </tr>\n",
       "  </thead>\n",
       "  <tbody>\n",
       "    <tr>\n",
       "      <th>0</th>\n",
       "      <td>5458_left</td>\n",
       "      <td>0</td>\n",
       "      <td>1.216510e+10</td>\n",
       "      <td>-52.720355</td>\n",
       "      <td>1.856397e-11</td>\n",
       "    </tr>\n",
       "    <tr>\n",
       "      <th>1</th>\n",
       "      <td>709_left</td>\n",
       "      <td>0</td>\n",
       "      <td>6.893617e+03</td>\n",
       "      <td>9.746332</td>\n",
       "      <td>1.385092e-06</td>\n",
       "    </tr>\n",
       "    <tr>\n",
       "      <th>2</th>\n",
       "      <td>7231_left</td>\n",
       "      <td>0</td>\n",
       "      <td>3.735217e-04</td>\n",
       "      <td>82.407646</td>\n",
       "      <td>9.683403e-01</td>\n",
       "    </tr>\n",
       "    <tr>\n",
       "      <th>3</th>\n",
       "      <td>21254_right</td>\n",
       "      <td>0</td>\n",
       "      <td>1.568324e-04</td>\n",
       "      <td>86.176445</td>\n",
       "      <td>9.871063e-01</td>\n",
       "    </tr>\n",
       "    <tr>\n",
       "      <th>4</th>\n",
       "      <td>8461_right</td>\n",
       "      <td>0</td>\n",
       "      <td>1.043526e+08</td>\n",
       "      <td>-32.054229</td>\n",
       "      <td>-1.124278e-09</td>\n",
       "    </tr>\n",
       "    <tr>\n",
       "      <th>...</th>\n",
       "      <td>...</td>\n",
       "      <td>...</td>\n",
       "      <td>...</td>\n",
       "      <td>...</td>\n",
       "      <td>...</td>\n",
       "    </tr>\n",
       "    <tr>\n",
       "      <th>495</th>\n",
       "      <td>28688_right</td>\n",
       "      <td>4</td>\n",
       "      <td>5.224716e+07</td>\n",
       "      <td>-29.049823</td>\n",
       "      <td>-7.297950e-09</td>\n",
       "    </tr>\n",
       "    <tr>\n",
       "      <th>496</th>\n",
       "      <td>10677_right</td>\n",
       "      <td>4</td>\n",
       "      <td>1.945431e-04</td>\n",
       "      <td>85.240645</td>\n",
       "      <td>9.755146e-01</td>\n",
       "    </tr>\n",
       "    <tr>\n",
       "      <th>497</th>\n",
       "      <td>11324_left</td>\n",
       "      <td>4</td>\n",
       "      <td>2.198202e+02</td>\n",
       "      <td>24.710127</td>\n",
       "      <td>1.027701e-04</td>\n",
       "    </tr>\n",
       "    <tr>\n",
       "      <th>498</th>\n",
       "      <td>9575_right</td>\n",
       "      <td>4</td>\n",
       "      <td>5.187905e+08</td>\n",
       "      <td>-39.019117</td>\n",
       "      <td>-5.381258e-11</td>\n",
       "    </tr>\n",
       "    <tr>\n",
       "      <th>499</th>\n",
       "      <td>20793_right</td>\n",
       "      <td>4</td>\n",
       "      <td>4.536955e-04</td>\n",
       "      <td>81.563159</td>\n",
       "      <td>9.230809e-01</td>\n",
       "    </tr>\n",
       "  </tbody>\n",
       "</table>\n",
       "<p>500 rows × 5 columns</p>\n",
       "</div>"
      ],
      "text/plain": [
       "        filename  label           mse       psnr          ssim\n",
       "0      5458_left      0  1.216510e+10 -52.720355  1.856397e-11\n",
       "1       709_left      0  6.893617e+03   9.746332  1.385092e-06\n",
       "2      7231_left      0  3.735217e-04  82.407646  9.683403e-01\n",
       "3    21254_right      0  1.568324e-04  86.176445  9.871063e-01\n",
       "4     8461_right      0  1.043526e+08 -32.054229 -1.124278e-09\n",
       "..           ...    ...           ...        ...           ...\n",
       "495  28688_right      4  5.224716e+07 -29.049823 -7.297950e-09\n",
       "496  10677_right      4  1.945431e-04  85.240645  9.755146e-01\n",
       "497   11324_left      4  2.198202e+02  24.710127  1.027701e-04\n",
       "498   9575_right      4  5.187905e+08 -39.019117 -5.381258e-11\n",
       "499  20793_right      4  4.536955e-04  81.563159  9.230809e-01\n",
       "\n",
       "[500 rows x 5 columns]"
      ]
     },
     "execution_count": 21,
     "metadata": {},
     "output_type": "execute_result"
    }
   ],
   "source": [
    "results_df"
   ]
  },
  {
   "cell_type": "code",
   "execution_count": 23,
   "id": "6e6d0b1b",
   "metadata": {},
   "outputs": [],
   "source": [
    "import seaborn as sns"
   ]
  },
  {
   "cell_type": "code",
   "execution_count": 28,
   "id": "26b47400",
   "metadata": {},
   "outputs": [
    {
     "name": "stderr",
     "output_type": "stream",
     "text": [
      "/tmp/ipykernel_15641/2910124444.py:1: FutureWarning: ['filename'] did not aggregate successfully. If any error is raised this will raise in a future version of pandas. Drop these columns/ops to avoid this warning.\n",
      "  results_df.groupby('label').agg(['mean', 'min'])\n"
     ]
    },
    {
     "data": {
      "text/html": [
       "<div>\n",
       "<style scoped>\n",
       "    .dataframe tbody tr th:only-of-type {\n",
       "        vertical-align: middle;\n",
       "    }\n",
       "\n",
       "    .dataframe tbody tr th {\n",
       "        vertical-align: top;\n",
       "    }\n",
       "\n",
       "    .dataframe thead tr th {\n",
       "        text-align: left;\n",
       "    }\n",
       "\n",
       "    .dataframe thead tr:last-of-type th {\n",
       "        text-align: right;\n",
       "    }\n",
       "</style>\n",
       "<table border=\"1\" class=\"dataframe\">\n",
       "  <thead>\n",
       "    <tr>\n",
       "      <th></th>\n",
       "      <th colspan=\"2\" halign=\"left\">mse</th>\n",
       "      <th colspan=\"2\" halign=\"left\">psnr</th>\n",
       "      <th colspan=\"2\" halign=\"left\">ssim</th>\n",
       "    </tr>\n",
       "    <tr>\n",
       "      <th></th>\n",
       "      <th>mean</th>\n",
       "      <th>min</th>\n",
       "      <th>mean</th>\n",
       "      <th>min</th>\n",
       "      <th>mean</th>\n",
       "      <th>min</th>\n",
       "    </tr>\n",
       "    <tr>\n",
       "      <th>label</th>\n",
       "      <th></th>\n",
       "      <th></th>\n",
       "      <th></th>\n",
       "      <th></th>\n",
       "      <th></th>\n",
       "      <th></th>\n",
       "    </tr>\n",
       "  </thead>\n",
       "  <tbody>\n",
       "    <tr>\n",
       "      <th>0</th>\n",
       "      <td>6.668626e+19</td>\n",
       "      <td>0.000029</td>\n",
       "      <td>28.008597</td>\n",
       "      <td>-170.064242</td>\n",
       "      <td>0.500053</td>\n",
       "      <td>-0.000078</td>\n",
       "    </tr>\n",
       "    <tr>\n",
       "      <th>1</th>\n",
       "      <td>6.566529e+16</td>\n",
       "      <td>0.000018</td>\n",
       "      <td>30.120989</td>\n",
       "      <td>-140.041689</td>\n",
       "      <td>0.465292</td>\n",
       "      <td>-0.002261</td>\n",
       "    </tr>\n",
       "    <tr>\n",
       "      <th>2</th>\n",
       "      <td>3.749541e+12</td>\n",
       "      <td>0.000031</td>\n",
       "      <td>44.232144</td>\n",
       "      <td>-95.670724</td>\n",
       "      <td>0.511897</td>\n",
       "      <td>-0.001016</td>\n",
       "    </tr>\n",
       "    <tr>\n",
       "      <th>3</th>\n",
       "      <td>1.545534e+19</td>\n",
       "      <td>0.000027</td>\n",
       "      <td>41.321155</td>\n",
       "      <td>-163.759981</td>\n",
       "      <td>0.558310</td>\n",
       "      <td>-0.001751</td>\n",
       "    </tr>\n",
       "    <tr>\n",
       "      <th>4</th>\n",
       "      <td>7.379554e+19</td>\n",
       "      <td>0.000029</td>\n",
       "      <td>35.613659</td>\n",
       "      <td>-170.544814</td>\n",
       "      <td>0.553006</td>\n",
       "      <td>-0.001473</td>\n",
       "    </tr>\n",
       "  </tbody>\n",
       "</table>\n",
       "</div>"
      ],
      "text/plain": [
       "                mse                 psnr                  ssim          \n",
       "               mean       min       mean         min      mean       min\n",
       "label                                                                   \n",
       "0      6.668626e+19  0.000029  28.008597 -170.064242  0.500053 -0.000078\n",
       "1      6.566529e+16  0.000018  30.120989 -140.041689  0.465292 -0.002261\n",
       "2      3.749541e+12  0.000031  44.232144  -95.670724  0.511897 -0.001016\n",
       "3      1.545534e+19  0.000027  41.321155 -163.759981  0.558310 -0.001751\n",
       "4      7.379554e+19  0.000029  35.613659 -170.544814  0.553006 -0.001473"
      ]
     },
     "execution_count": 28,
     "metadata": {},
     "output_type": "execute_result"
    }
   ],
   "source": [
    "results_df.groupby('label').agg(['mean', 'min'])"
   ]
  },
  {
   "cell_type": "code",
   "execution_count": 48,
   "id": "c5f1db9f",
   "metadata": {},
   "outputs": [],
   "source": [
    "results_df.to_csv('results.csv', index=None)"
   ]
  },
  {
   "cell_type": "markdown",
   "id": "96486565",
   "metadata": {},
   "source": [
    "### Viz"
   ]
  },
  {
   "cell_type": "code",
   "execution_count": 5,
   "id": "5dd2f1c4",
   "metadata": {},
   "outputs": [],
   "source": [
    "import seaborn as sns"
   ]
  },
  {
   "cell_type": "code",
   "execution_count": 57,
   "id": "10e2199c",
   "metadata": {},
   "outputs": [],
   "source": [
    "df = pd.read_csv('results.csv')"
   ]
  },
  {
   "cell_type": "code",
   "execution_count": 34,
   "id": "1277d61e",
   "metadata": {},
   "outputs": [],
   "source": [
    "df = df[df['psnr'] > 70]"
   ]
  },
  {
   "cell_type": "code",
   "execution_count": 60,
   "id": "7dcbe7f3",
   "metadata": {},
   "outputs": [
    {
     "data": {
      "image/png": "[encoded data removed]",
      "text/plain": [
       "<Figure size 800x1200 with 15 Axes>"
      ]
     },
     "metadata": {},
     "output_type": "display_data"
    }
   ],
   "source": [
    "fig, axs = plt.subplots(5, 3, sharey=True, constrained_layout = True, figsize=(8,12))\n",
    "for label in range(0, 5):\n",
    "    for i, metric in enumerate(['ssim', 'psnr', 'mse']):\n",
    "        sns.histplot(data=df[df['label'] == label], x=metric, bins=15, ax=axs[label][i])\n",
    "        axs[label][i].set_ylabel(f'Label: {label}')\n",
    "\n",
    "\n",
    "# set the spacing between subplots\n",
    "plt.show()\n",
    "# axs[0, 0].plot(x, y)\n",
    "# axs[0, 0].set_title('Axis [0, 0]')\n",
    "# axs[0, 1].plot(x, y, 'tab:orange')\n",
    "# axs[0, 1].set_title('Axis [0, 1]')\n",
    "# axs[1, 0].plot(x, -y, 'tab:green')\n",
    "# axs[1, 0].set_title('Axis [1, 0]')\n",
    "# axs[1, 1].plot(x, -y, 'tab:red')\n",
    "# axs[1, 1].set_title('Axis [1, 1]')\n",
    "\n",
    "# for ax in axs.flat:"
   ]
  },
  {
   "cell_type": "code",
   "execution_count": 45,
   "id": "f577d259",
   "metadata": {},
   "outputs": [
    {
     "data": {
      "text/plain": [
       "<AxesSubplot:xlabel='ssim', ylabel='Count'>"
      ]
     },
     "execution_count": 45,
     "metadata": {},
     "output_type": "execute_result"
    },
    {
     "data": {
      "image/png": "[encoded data removed]",
      "text/plain": [
       "<Figure size 640x480 with 1 Axes>"
      ]
     },
     "metadata": {},
     "output_type": "display_data"
    }
   ],
   "source": [
    "sns.histplot(data=df[df['label'] == 0], x='ssim', hue='label', bins=15, palette='tab10', ax=)"
   ]
  },
  {
   "cell_type": "code",
   "execution_count": 29,
   "id": "2403f035",
   "metadata": {},
   "outputs": [],
   "source": [
    "def above_70(series):\n",
    "    return (series > 0.7).sum()"
   ]
  },
  {
   "cell_type": "code",
   "execution_count": 36,
   "id": "2eef77cd",
   "metadata": {},
   "outputs": [],
   "source": [
    "df.groupby('label').agg({'ssim': ('mean', 'max', 'count', above_70), 'psnr': ('mean', 'max', 'count'), 'mse': ('mean', 'min', 'count')}, 'count').to_csv('label_agg_dr_above_70.csv')"
   ]
  },
  {
   "cell_type": "code",
   "execution_count": 28,
   "id": "08c7dee5",
   "metadata": {},
   "outputs": [
    {
     "data": {
      "text/html": [
       "<div>\n",
       "<style scoped>\n",
       "    .dataframe tbody tr th:only-of-type {\n",
       "        vertical-align: middle;\n",
       "    }\n",
       "\n",
       "    .dataframe tbody tr th {\n",
       "        vertical-align: top;\n",
       "    }\n",
       "\n",
       "    .dataframe thead tr th {\n",
       "        text-align: left;\n",
       "    }\n",
       "\n",
       "    .dataframe thead tr:last-of-type th {\n",
       "        text-align: right;\n",
       "    }\n",
       "</style>\n",
       "<table border=\"1\" class=\"dataframe\">\n",
       "  <thead>\n",
       "    <tr>\n",
       "      <th></th>\n",
       "      <th colspan=\"8\" halign=\"left\">mse</th>\n",
       "      <th colspan=\"5\" halign=\"left\">psnr</th>\n",
       "      <th colspan=\"8\" halign=\"left\">ssim</th>\n",
       "    </tr>\n",
       "    <tr>\n",
       "      <th></th>\n",
       "      <th>count</th>\n",
       "      <th>mean</th>\n",
       "      <th>std</th>\n",
       "      <th>min</th>\n",
       "      <th>25%</th>\n",
       "      <th>50%</th>\n",
       "      <th>75%</th>\n",
       "      <th>max</th>\n",
       "      <th>count</th>\n",
       "      <th>mean</th>\n",
       "      <th>...</th>\n",
       "      <th>75%</th>\n",
       "      <th>max</th>\n",
       "      <th>count</th>\n",
       "      <th>mean</th>\n",
       "      <th>std</th>\n",
       "      <th>min</th>\n",
       "      <th>25%</th>\n",
       "      <th>50%</th>\n",
       "      <th>75%</th>\n",
       "      <th>max</th>\n",
       "    </tr>\n",
       "    <tr>\n",
       "      <th>label</th>\n",
       "      <th></th>\n",
       "      <th></th>\n",
       "      <th></th>\n",
       "      <th></th>\n",
       "      <th></th>\n",
       "      <th></th>\n",
       "      <th></th>\n",
       "      <th></th>\n",
       "      <th></th>\n",
       "      <th></th>\n",
       "      <th></th>\n",
       "      <th></th>\n",
       "      <th></th>\n",
       "      <th></th>\n",
       "      <th></th>\n",
       "      <th></th>\n",
       "      <th></th>\n",
       "      <th></th>\n",
       "      <th></th>\n",
       "      <th></th>\n",
       "      <th></th>\n",
       "    </tr>\n",
       "  </thead>\n",
       "  <tbody>\n",
       "    <tr>\n",
       "      <th>0</th>\n",
       "      <td>100.0</td>\n",
       "      <td>6.668626e+19</td>\n",
       "      <td>6.598998e+20</td>\n",
       "      <td>0.000029</td>\n",
       "      <td>0.000378</td>\n",
       "      <td>0.004875</td>\n",
       "      <td>6.556836e+08</td>\n",
       "      <td>6.599401e+21</td>\n",
       "      <td>100.0</td>\n",
       "      <td>28.008597</td>\n",
       "      <td>...</td>\n",
       "      <td>82.359183</td>\n",
       "      <td>93.495920</td>\n",
       "      <td>100.0</td>\n",
       "      <td>0.500053</td>\n",
       "      <td>0.466045</td>\n",
       "      <td>-0.000078</td>\n",
       "      <td>1.344459e-11</td>\n",
       "      <td>0.781551</td>\n",
       "      <td>0.968459</td>\n",
       "      <td>0.996553</td>\n",
       "    </tr>\n",
       "    <tr>\n",
       "      <th>1</th>\n",
       "      <td>100.0</td>\n",
       "      <td>6.566529e+16</td>\n",
       "      <td>6.565206e+17</td>\n",
       "      <td>0.000018</td>\n",
       "      <td>0.000228</td>\n",
       "      <td>0.480348</td>\n",
       "      <td>4.656611e+08</td>\n",
       "      <td>6.565219e+18</td>\n",
       "      <td>100.0</td>\n",
       "      <td>30.120989</td>\n",
       "      <td>...</td>\n",
       "      <td>84.563882</td>\n",
       "      <td>95.630492</td>\n",
       "      <td>100.0</td>\n",
       "      <td>0.465292</td>\n",
       "      <td>0.476398</td>\n",
       "      <td>-0.002261</td>\n",
       "      <td>1.068656e-15</td>\n",
       "      <td>0.107123</td>\n",
       "      <td>0.977025</td>\n",
       "      <td>0.998416</td>\n",
       "    </tr>\n",
       "    <tr>\n",
       "      <th>2</th>\n",
       "      <td>100.0</td>\n",
       "      <td>3.749541e+12</td>\n",
       "      <td>2.472320e+13</td>\n",
       "      <td>0.000031</td>\n",
       "      <td>0.000197</td>\n",
       "      <td>0.002701</td>\n",
       "      <td>5.338611e+01</td>\n",
       "      <td>2.399677e+14</td>\n",
       "      <td>100.0</td>\n",
       "      <td>44.232144</td>\n",
       "      <td>...</td>\n",
       "      <td>85.183665</td>\n",
       "      <td>93.275541</td>\n",
       "      <td>100.0</td>\n",
       "      <td>0.511897</td>\n",
       "      <td>0.474982</td>\n",
       "      <td>-0.001016</td>\n",
       "      <td>4.012872e-11</td>\n",
       "      <td>0.831188</td>\n",
       "      <td>0.974644</td>\n",
       "      <td>0.997128</td>\n",
       "    </tr>\n",
       "    <tr>\n",
       "      <th>3</th>\n",
       "      <td>100.0</td>\n",
       "      <td>1.545534e+19</td>\n",
       "      <td>1.545533e+20</td>\n",
       "      <td>0.000027</td>\n",
       "      <td>0.000268</td>\n",
       "      <td>0.001496</td>\n",
       "      <td>8.859103e+01</td>\n",
       "      <td>1.545533e+21</td>\n",
       "      <td>100.0</td>\n",
       "      <td>41.321155</td>\n",
       "      <td>...</td>\n",
       "      <td>83.845067</td>\n",
       "      <td>93.746503</td>\n",
       "      <td>100.0</td>\n",
       "      <td>0.558310</td>\n",
       "      <td>0.466956</td>\n",
       "      <td>-0.001751</td>\n",
       "      <td>1.393111e-11</td>\n",
       "      <td>0.887660</td>\n",
       "      <td>0.974188</td>\n",
       "      <td>0.998399</td>\n",
       "    </tr>\n",
       "    <tr>\n",
       "      <th>4</th>\n",
       "      <td>100.0</td>\n",
       "      <td>7.379554e+19</td>\n",
       "      <td>7.371522e+20</td>\n",
       "      <td>0.000029</td>\n",
       "      <td>0.000200</td>\n",
       "      <td>0.001030</td>\n",
       "      <td>1.213136e+08</td>\n",
       "      <td>7.371600e+21</td>\n",
       "      <td>100.0</td>\n",
       "      <td>35.613659</td>\n",
       "      <td>...</td>\n",
       "      <td>85.117331</td>\n",
       "      <td>93.524867</td>\n",
       "      <td>100.0</td>\n",
       "      <td>0.553006</td>\n",
       "      <td>0.469549</td>\n",
       "      <td>-0.001473</td>\n",
       "      <td>1.612302e-11</td>\n",
       "      <td>0.895171</td>\n",
       "      <td>0.978263</td>\n",
       "      <td>0.997378</td>\n",
       "    </tr>\n",
       "  </tbody>\n",
       "</table>\n",
       "<p>5 rows × 24 columns</p>\n",
       "</div>"
      ],
      "text/plain": [
       "         mse                                                            \\\n",
       "       count          mean           std       min       25%       50%   \n",
       "label                                                                    \n",
       "0      100.0  6.668626e+19  6.598998e+20  0.000029  0.000378  0.004875   \n",
       "1      100.0  6.566529e+16  6.565206e+17  0.000018  0.000228  0.480348   \n",
       "2      100.0  3.749541e+12  2.472320e+13  0.000031  0.000197  0.002701   \n",
       "3      100.0  1.545534e+19  1.545533e+20  0.000027  0.000268  0.001496   \n",
       "4      100.0  7.379554e+19  7.371522e+20  0.000029  0.000200  0.001030   \n",
       "\n",
       "                                    psnr             ...             \\\n",
       "                75%           max  count       mean  ...        75%   \n",
       "label                                                ...              \n",
       "0      6.556836e+08  6.599401e+21  100.0  28.008597  ...  82.359183   \n",
       "1      4.656611e+08  6.565219e+18  100.0  30.120989  ...  84.563882   \n",
       "2      5.338611e+01  2.399677e+14  100.0  44.232144  ...  85.183665   \n",
       "3      8.859103e+01  1.545533e+21  100.0  41.321155  ...  83.845067   \n",
       "4      1.213136e+08  7.371600e+21  100.0  35.613659  ...  85.117331   \n",
       "\n",
       "                   ssim                                                        \\\n",
       "             max  count      mean       std       min           25%       50%   \n",
       "label                                                                           \n",
       "0      93.495920  100.0  0.500053  0.466045 -0.000078  1.344459e-11  0.781551   \n",
       "1      95.630492  100.0  0.465292  0.476398 -0.002261  1.068656e-15  0.107123   \n",
       "2      93.275541  100.0  0.511897  0.474982 -0.001016  4.012872e-11  0.831188   \n",
       "3      93.746503  100.0  0.558310  0.466956 -0.001751  1.393111e-11  0.887660   \n",
       "4      93.524867  100.0  0.553006  0.469549 -0.001473  1.612302e-11  0.895171   \n",
       "\n",
       "                           \n",
       "            75%       max  \n",
       "label                      \n",
       "0      0.968459  0.996553  \n",
       "1      0.977025  0.998416  \n",
       "2      0.974644  0.997128  \n",
       "3      0.974188  0.998399  \n",
       "4      0.978263  0.997378  \n",
       "\n",
       "[5 rows x 24 columns]"
      ]
     },
     "execution_count": 28,
     "metadata": {},
     "output_type": "execute_result"
    }
   ],
   "source": [
    "df.groupby('label').describe()"
   ]
  },
  {
   "cell_type": "code",
   "execution_count": null,
   "id": "d6262896",
   "metadata": {},
   "outputs": [],
   "source": []
  }
 ],
 "metadata": {
  "kernelspec": {
   "display_name": "Python 3 (ipykernel)",
   "language": "python",
   "name": "python3"
  },
  "language_info": {
   "codemirror_mode": {
    "name": "ipython",
    "version": 3
   },
   "file_extension": ".py",
   "mimetype": "text/x-python",
   "name": "python",
   "nbconvert_exporter": "python",
   "pygments_lexer": "ipython3",
   "version": "3.8.13"
  }
 },
 "nbformat": 4,
 "nbformat_minor": 5
}
