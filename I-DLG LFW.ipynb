{
 "cells": [
  {
   "cell_type": "code",
   "execution_count": 1,
   "id": "6380e43b",
   "metadata": {},
   "outputs": [],
   "source": [
    "import time\n",
    "import os\n",
    "import numpy as np\n",
    "import matplotlib.pyplot as plt\n",
    "import pandas as pd\n",
    "import time\n",
    "\n",
    "import torch\n",
    "import torch.nn as nn\n",
    "from torch.utils.data import Dataset\n",
    "from torchvision import datasets, transforms\n",
    "from torchvision.io import read_image\n",
    "\n",
    "import pickle\n",
    "import PIL.Image as Image"
   ]
  },
  {
   "cell_type": "markdown",
   "id": "8b2566e0",
   "metadata": {},
   "source": [
    "## Model declarations "
   ]
  },
  {
   "cell_type": "code",
   "execution_count": 2,
   "id": "fb491b79",
   "metadata": {},
   "outputs": [],
   "source": [
    "class LeNet(nn.Module):\n",
    "    def __init__(self, channel=3, hideen=588, num_classes=10):\n",
    "        super(LeNet, self).__init__()\n",
    "        act = nn.Sigmoid\n",
    "        self.body = nn.Sequential(\n",
    "            nn.Conv2d(channel, 12, kernel_size=5, padding=5 // 2, stride=2),\n",
    "            act(),\n",
    "            nn.Conv2d(12, 12, kernel_size=5, padding=5 // 2, stride=2),\n",
    "            act(),\n",
    "            nn.Conv2d(12, 12, kernel_size=5, padding=5 // 2, stride=1),\n",
    "            act(),\n",
    "        )\n",
    "        self.fc = nn.Sequential(\n",
    "            nn.Linear(hideen, num_classes)\n",
    "        )\n",
    "\n",
    "    def forward(self, x):\n",
    "        out = self.body(x)\n",
    "        out = out.view(out.size(0), -1)\n",
    "        out = self.fc(out)\n",
    "        return out"
   ]
  },
  {
   "cell_type": "markdown",
   "id": "50ba3774",
   "metadata": {},
   "source": [
    "## Misc functions"
   ]
  },
  {
   "cell_type": "code",
   "execution_count": 3,
   "id": "bbc65734",
   "metadata": {},
   "outputs": [],
   "source": [
    "def weights_init(m):\n",
    "    try:\n",
    "        if hasattr(m, \"weight\"):\n",
    "            m.weight.data.uniform_(-0.5, 0.5)\n",
    "    except Exception:\n",
    "        print('warning: failed in weights_init for %s.weight' % m._get_name())\n",
    "    try:\n",
    "        if hasattr(m, \"bias\"):\n",
    "            m.bias.data.uniform_(-0.5, 0.5)\n",
    "    except Exception:\n",
    "        print('warning: failed in weights_init for %s.bias' % m._get_name())"
   ]
  },
  {
   "cell_type": "markdown",
   "id": "d6b8862b",
   "metadata": {},
   "source": [
    "## Data functions"
   ]
  },
  {
   "cell_type": "code",
   "execution_count": 4,
   "id": "0c6c984e",
   "metadata": {},
   "outputs": [],
   "source": [
    "class Dataset_from_Image(Dataset):\n",
    "    def __init__(self, imgs, labs, transform=None):\n",
    "        self.imgs = imgs # img paths\n",
    "        self.labs = labs # labs is ndarray\n",
    "        self.transform = transform\n",
    "        del imgs, labs\n",
    "\n",
    "    def __len__(self):\n",
    "        return self.labs.shape[0]\n",
    "\n",
    "    def __getitem__(self, idx):\n",
    "        lab = self.labs[idx]\n",
    "        img = Image.open(self.imgs[idx])\n",
    "        if img.mode != 'RGB':\n",
    "            img = img.convert('RGB')\n",
    "        img = self.transform(img)\n",
    "        return img, lab"
   ]
  },
  {
   "cell_type": "code",
   "execution_count": 5,
   "id": "918a92e2",
   "metadata": {},
   "outputs": [],
   "source": [
    "def lfw_dataset(lfw_path, shape_img):\n",
    "    images_all = []\n",
    "    labels_all = []\n",
    "    folders = os.listdir(lfw_path)\n",
    "    print(folders)\n",
    "    for foldidx, fold in enumerate(folders):\n",
    "        files = os.listdir(os.path.join(lfw_path, fold))\n",
    "        for f in files:\n",
    "            if len(f) > 4 and f[-4:] == '.jpg':\n",
    "                images_all.append(os.path.join(lfw_path, fold, f))\n",
    "                labels_all.append(foldidx)\n",
    "\n",
    "    transform = transforms.Compose([transforms.Resize(size=shape_img)])\n",
    "    dst = Dataset_from_Image(images_all, np.asarray(labels_all, dtype=int), transform=transform)\n",
    "    return dst"
   ]
  },
  {
   "cell_type": "code",
   "execution_count": 6,
   "id": "03fb1403",
   "metadata": {},
   "outputs": [],
   "source": [
    "def load_data(dataset, data_path):\n",
    "    data_params = {}\n",
    "    if dataset == 'MNIST':\n",
    "        data_params['shape_img'] = (28, 28)\n",
    "        data_params['num_classes'] = 10\n",
    "        data_params['channel'] = 1\n",
    "        data_params['hidden'] = 588\n",
    "        data_params['dst'] = datasets.MNIST(data_path, download=False)\n",
    "\n",
    "    elif dataset == 'cifar100':\n",
    "        data_params['shape_img'] = (32, 32)\n",
    "        data_params['num_classes'] = 100\n",
    "        data_params['channel'] = 3\n",
    "        data_params['hidden'] = 768\n",
    "        data_params['dst'] = datasets.CIFAR100(data_path, download=False)\n",
    "\n",
    "    elif dataset == 'lfw':\n",
    "        data_params['shape_img'] = (32, 32)\n",
    "        data_params['num_classes'] = 5749\n",
    "        data_params['channel'] = 3\n",
    "        data_params['hidden'] = 768\n",
    "        data_params['lfw_path'] = os.path.join(root_path, '../data/lfw')\n",
    "        data_params['dst'] = lfw_dataset(data_params['lfw_path'], data_params['shape_img'])\n",
    "\n",
    "    else:\n",
    "        exit('unknown dataset')\n",
    "        \n",
    "    return data_params\n",
    "    "
   ]
  },
  {
   "cell_type": "markdown",
   "id": "3fb30d53",
   "metadata": {},
   "source": [
    "## Args"
   ]
  },
  {
   "cell_type": "markdown",
   "id": "200b34fe",
   "metadata": {},
   "source": [
    "##### Paths"
   ]
  },
  {
   "cell_type": "code",
   "execution_count": 7,
   "id": "d45ce0e9",
   "metadata": {},
   "outputs": [],
   "source": [
    "dataset = 'lfw'\n",
    "root_path = '.'"
   ]
  },
  {
   "cell_type": "markdown",
   "id": "79904d15",
   "metadata": {},
   "source": [
    "##### Model params"
   ]
  },
  {
   "cell_type": "code",
   "execution_count": 8,
   "id": "0e7f1fc7",
   "metadata": {},
   "outputs": [],
   "source": [
    "lr = 1.0\n",
    "num_dummy = 1\n",
    "Iteration = 300\n",
    "num_exp = 1"
   ]
  },
  {
   "cell_type": "code",
   "execution_count": 9,
   "id": "efc10dc1",
   "metadata": {},
   "outputs": [],
   "source": [
    "device = 'cuda' if torch.cuda.is_available() else 'cpu'"
   ]
  },
  {
   "cell_type": "code",
   "execution_count": 10,
   "id": "4cbbaf19",
   "metadata": {},
   "outputs": [],
   "source": [
    "tt = transforms.Compose([transforms.ToTensor()])\n",
    "tp = transforms.Compose([transforms.ToPILImage()])"
   ]
  },
  {
   "cell_type": "code",
   "execution_count": 11,
   "id": "a6fa043a",
   "metadata": {},
   "outputs": [],
   "source": [
    "root_path = '.'\n",
    "data_path = os.path.join(root_path, '../data')\n",
    "save_path = os.path.join(root_path, 'results/iDLG_%s'%dataset)"
   ]
  },
  {
   "cell_type": "code",
   "execution_count": 12,
   "id": "4db421f6",
   "metadata": {},
   "outputs": [],
   "source": [
    "if not os.path.exists('results'):\n",
    "    os.mkdir('results')\n",
    "if not os.path.exists(save_path):\n",
    "    os.mkdir(save_path)"
   ]
  },
  {
   "cell_type": "markdown",
   "id": "715f76e5",
   "metadata": {},
   "source": [
    "#### Choosing the data"
   ]
  },
  {
   "cell_type": "code",
   "execution_count": 13,
   "id": "4109281c",
   "metadata": {},
   "outputs": [
    {
     "name": "stdout",
     "output_type": "stream",
     "text": [
      "['birb']\n"
     ]
    }
   ],
   "source": [
    "data_params = load_data(dataset, data_path)\n",
    "dst = data_params['dst']\n",
    "num_classes = data_params['num_classes']\n",
    "hidden = data_params['hidden']\n",
    "channels = data_params['channel']"
   ]
  },
  {
   "cell_type": "markdown",
   "id": "eab684a2",
   "metadata": {},
   "source": [
    "Lenet"
   ]
  },
  {
   "cell_type": "code",
   "execution_count": 14,
   "id": "848c4afc",
   "metadata": {},
   "outputs": [],
   "source": [
    "net = LeNet(channel=channels,  \n",
    "            hideen=hidden,\n",
    "            num_classes=num_classes)"
   ]
  },
  {
   "cell_type": "code",
   "execution_count": 15,
   "id": "ed8dff76",
   "metadata": {},
   "outputs": [
    {
     "data": {
      "text/plain": [
       "LeNet(\n",
       "  (body): Sequential(\n",
       "    (0): Conv2d(3, 12, kernel_size=(5, 5), stride=(2, 2), padding=(2, 2))\n",
       "    (1): Sigmoid()\n",
       "    (2): Conv2d(12, 12, kernel_size=(5, 5), stride=(2, 2), padding=(2, 2))\n",
       "    (3): Sigmoid()\n",
       "    (4): Conv2d(12, 12, kernel_size=(5, 5), stride=(1, 1), padding=(2, 2))\n",
       "    (5): Sigmoid()\n",
       "  )\n",
       "  (fc): Sequential(\n",
       "    (0): Linear(in_features=768, out_features=5749, bias=True)\n",
       "  )\n",
       ")"
      ]
     },
     "execution_count": 15,
     "metadata": {},
     "output_type": "execute_result"
    }
   ],
   "source": [
    "net"
   ]
  },
  {
   "cell_type": "markdown",
   "id": "597ae439",
   "metadata": {},
   "source": [
    "### Training"
   ]
  },
  {
   "cell_type": "code",
   "execution_count": null,
   "id": "0984da38",
   "metadata": {},
   "outputs": [
    {
     "name": "stdout",
     "output_type": "stream",
     "text": [
      "running 0|1 experiment\n",
      "IDLG, Try to generate 1 images\n",
      "lr = 1.0\n",
      "Time taken for step: 0.2352139949798584\n",
      "[2022-11-11 19:19:12] 0 loss = 69.01976013, mse = 1.03527665\n",
      "Time taken for step: 6.513413429260254\n",
      "[2022-11-11 19:19:18] 10 loss = 1.33208930, mse = 0.32782418\n",
      "Time taken for step: 7.746267557144165\n",
      "[2022-11-11 19:19:26] 20 loss = 0.11202496, mse = 0.07660882\n",
      "Time taken for step: 8.246971130371094\n",
      "[2022-11-11 19:19:35] 30 loss = 0.02965293, mse = 0.03376979\n",
      "Time taken for step: 8.125829935073853\n",
      "[2022-11-11 19:19:43] 40 loss = 0.01430639, mse = 0.02024816\n",
      "Time taken for step: 7.897363662719727\n",
      "[2022-11-11 19:19:51] 50 loss = 0.00790760, mse = 0.01359699\n",
      "Time taken for step: 7.876681566238403\n",
      "[2022-11-11 19:19:59] 60 loss = 0.00576251, mse = 0.01086726\n",
      "Time taken for step: 7.491562843322754\n",
      "[2022-11-11 19:20:07] 70 loss = 0.00425927, mse = 0.00869554\n"
     ]
    }
   ],
   "source": [
    "for idx_net in range(num_exp):\n",
    "    net.apply(weights_init)\n",
    "\n",
    "    print('running %d|%d experiment'%(idx_net, num_exp))\n",
    "    net = net.to(device)\n",
    "    idx_shuffle = np.random.permutation(len(dst))\n",
    "\n",
    "    print('%s, Try to generate %d images' % ('IDLG', num_dummy))\n",
    "\n",
    "    criterion = nn.CrossEntropyLoss().to(device)\n",
    "    imidx_list = []\n",
    "\n",
    "    for imidx in range(num_dummy):\n",
    "        idx = idx_shuffle[imidx]\n",
    "        imidx_list.append(idx)\n",
    "        tmp_datum = tt(dst[idx][0]).float().to(device)\n",
    "        tmp_datum = tmp_datum.view(1, *tmp_datum.size())\n",
    "        tmp_label = torch.Tensor([dst[idx][1]]).long().to(device)\n",
    "        tmp_label = tmp_label.view(1, )\n",
    "        if imidx == 0:\n",
    "            gt_data = tmp_datum\n",
    "            gt_label = tmp_label\n",
    "        else:\n",
    "            gt_data = torch.cat((gt_data, tmp_datum), dim=0)\n",
    "            gt_label = torch.cat((gt_label, tmp_label), dim=0)\n",
    "\n",
    "\n",
    "    # compute original gradient\n",
    "    out = net(gt_data)\n",
    "    y = criterion(out, gt_label)\n",
    "    dy_dx = torch.autograd.grad(y, net.parameters())\n",
    "    original_dy_dx = list((_.detach().clone() for _ in dy_dx))\n",
    "\n",
    "    # generate dummy data and label\n",
    "    dummy_data = torch.randn(gt_data.size()).to(device).requires_grad_(True)\n",
    "    dummy_label = torch.randn((gt_data.shape[0], num_classes)).to(device).requires_grad_(True)\n",
    "\n",
    "    optimizer = torch.optim.LBFGS([dummy_data, ], lr=lr)\n",
    "    # predict the ground-truth label\n",
    "    label_pred = torch.argmin(torch.sum(original_dy_dx[-2], dim=-1), dim=-1).detach().reshape((1,)).requires_grad_(False)\n",
    "\n",
    "    history = []\n",
    "    history_iters = []\n",
    "    losses = []\n",
    "    mses = []\n",
    "    train_iters = []\n",
    "\n",
    "    print('lr =', lr)\n",
    "    \n",
    "    start_time = time.time()\n",
    "    for iters in range(Iteration):\n",
    "\n",
    "        def closure():\n",
    "            optimizer.zero_grad()\n",
    "            pred = net(dummy_data)\n",
    "            dummy_loss = criterion(pred, label_pred)\n",
    "\n",
    "            dummy_dy_dx = torch.autograd.grad(dummy_loss, net.parameters(), create_graph=True)\n",
    "\n",
    "            grad_diff = 0\n",
    "            for gx, gy in zip(dummy_dy_dx, original_dy_dx):\n",
    "                grad_diff += ((gx - gy) ** 2).sum()\n",
    "            grad_diff.backward()\n",
    "            return grad_diff\n",
    "\n",
    "        optimizer.step(closure)\n",
    "        current_loss = closure().item()\n",
    "        train_iters.append(iters)\n",
    "        losses.append(current_loss)\n",
    "        mses.append(torch.mean((dummy_data-gt_data)**2).item())\n",
    "\n",
    "\n",
    "        if iters % int(Iteration / 30) == 0:\n",
    "            print(f\"Time taken for step: {time.time() - start_time}\")\n",
    "            current_time = str(time.strftime(\"[%Y-%m-%d %H:%M:%S]\", time.localtime()))\n",
    "            print(current_time, iters, 'loss = %.8f, mse = %.8f' %(current_loss, mses[-1]))\n",
    "            history.append([tp(dummy_data[imidx].cpu()) for imidx in range(num_dummy)])\n",
    "            history_iters.append(iters)\n",
    "\n",
    "            for imidx in range(num_dummy):\n",
    "                plt.figure(figsize=(12, 8))\n",
    "                plt.subplot(3, 10, 1)\n",
    "                plt.imshow(tp(gt_data[imidx].cpu()))\n",
    "                for i in range(min(len(history), 29)):\n",
    "                    plt.subplot(3, 10, i + 2)\n",
    "                    plt.imshow(history[i][imidx])\n",
    "                    plt.title('iter=%d' % (history_iters[i]))\n",
    "                    plt.axis('off')\n",
    "                plt.savefig('%s/iDLG_on_%s_%05d.png' % (save_path, imidx_list, imidx_list[imidx]))\n",
    "                plt.close()\n",
    "\n",
    "            if current_loss < 0.000001: # converge\n",
    "                break\n",
    "            start_time = time.time()\n",
    "\n",
    "    loss_iDLG = losses\n",
    "    label_iDLG = label_pred.item()\n",
    "    mse_iDLG = mses\n",
    "\n",
    "\n",
    "\n",
    "    print('imidx_list:', imidx_list)\n",
    "    print('gt_label:', gt_label.detach().cpu().data.numpy(), 'lab_iDLG:', label_iDLG)\n",
    "\n",
    "    print('----------------------\\n\\n')"
   ]
  },
  {
   "cell_type": "markdown",
   "id": "46e6903b",
   "metadata": {},
   "source": [
    "## Test codes"
   ]
  },
  {
   "cell_type": "code",
   "execution_count": null,
   "id": "2aba3d1b",
   "metadata": {},
   "outputs": [],
   "source": []
  }
 ],
 "metadata": {
  "kernelspec": {
   "display_name": "Python 3 (ipykernel)",
   "language": "python",
   "name": "python3"
  },
  "language_info": {
   "codemirror_mode": {
    "name": "ipython",
    "version": 3
   },
   "file_extension": ".py",
   "mimetype": "text/x-python",
   "name": "python",
   "nbconvert_exporter": "python",
   "pygments_lexer": "ipython3",
   "version": "3.8.13"
  }
 },
 "nbformat": 4,
 "nbformat_minor": 5
}
